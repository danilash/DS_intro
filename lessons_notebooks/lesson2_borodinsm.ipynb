{
  "nbformat": 4,
  "nbformat_minor": 0,
  "metadata": {
    "colab": {
      "provenance": [],
      "toc_visible": true,
      "authorship_tag": "ABX9TyNuoAlOSvozFNRM98ZggOub",
      "include_colab_link": true
    },
    "kernelspec": {
      "name": "python3",
      "display_name": "Python 3"
    },
    "language_info": {
      "name": "python"
    }
  },
  "cells": [
    {
      "cell_type": "markdown",
      "metadata": {
        "id": "view-in-github",
        "colab_type": "text"
      },
      "source": [
        "<a href=\"https://colab.research.google.com/github/GrosBoy/DS_intro/blob/homework%2Flesson1-borodinsm/lesson2_borodinsm.ipynb\" target=\"_parent\"><img src=\"https://colab.research.google.com/assets/colab-badge.svg\" alt=\"Open In Colab\"/></a>"
      ]
    },
    {
      "cell_type": "markdown",
      "source": [
        "# Домашняя работа по второй лекции"
      ],
      "metadata": {
        "id": "IJUyrZpLBuJb"
      }
    },
    {
      "cell_type": "markdown",
      "source": [
        "## 1 задание"
      ],
      "metadata": {
        "id": "63PBcuWvC4J8"
      }
    },
    {
      "cell_type": "markdown",
      "source": [
        "Первый вариант (когда при создании массива сразу отсекается числа, кратные трём)"
      ],
      "metadata": {
        "id": "1eDc8gu0Ea5t"
      }
    },
    {
      "cell_type": "code",
      "source": [
        "import numpy as np\n",
        "arr=np.array([])\n",
        "for i in range(1,31):\n",
        "  if i%3!=0:\n",
        "    continue\n",
        "  arr=np.append(arr,i)\n",
        "print(arr)"
      ],
      "metadata": {
        "colab": {
          "base_uri": "https://localhost:8080/"
        },
        "id": "hUEe_KE3CYyc",
        "outputId": "fb8cb6a7-0393-4271-8a3c-48cfe9da35aa"
      },
      "execution_count": 39,
      "outputs": [
        {
          "output_type": "stream",
          "name": "stdout",
          "text": [
            "[ 3.  6.  9.  12.  15.  18. 21. 24. 27. 30.
          ]
        }
      ]
    },
    {
      "cell_type": "markdown",
      "source": [
        "Второй вариант (когда сначала создаётся массив, а потом только отсекаются числа, кратные трём)"
      ],
      "metadata": {
        "id": "5X9lEMwsEnFF"
      }
    },
    {
      "cell_type": "code",
      "source": [
        "import numpy as np\n",
        "arr=np.arange(1,31)\n",
        "ind=np.where(arr%3==0)\n",
        "print(arr[ind])"
      ],
      "metadata": {
        "colab": {
          "base_uri": "https://localhost:8080/"
        },
        "id": "DEfr53w5FCUp",
        "outputId": "d1dcffa2-bfd8-417b-cd5b-f29b2fc2cd88"
      },
      "execution_count": 24,
      "outputs": [
        {
          "output_type": "stream",
          "name": "stdout",
          "text": [
            "[ 1  2  4  5  7  8 10 11 13 14 16 17 19 20 22 23 25 26 28 29]\n"
          ]
        }
      ]
    },
    {
      "cell_type": "markdown",
      "source": [
        "## 2 задание"
      ],
      "metadata": {
        "id": "6bfVY6kFI5GT"
      }
    },
    {
      "cell_type": "code",
      "source": [
        "import numpy as np\n",
        "B=np.arange(30).reshape(6,5)\n",
        "print(\"Массив 6x5\\n\",B)\n",
        "print(\"Сумма по столбцам:\", B.sum(axis=0))\n",
        "b=B.reshape(5,6)\n",
        "print(\"\\nМассив 5x6\\n\",b)\n",
        "print(\"Сумма по столбцам:\", b.sum(axis=0))"
      ],
      "metadata": {
        "colab": {
          "base_uri": "https://localhost:8080/"
        },
        "id": "7Pl6iBtVJAdj",
        "outputId": "f776d47e-ed7f-474f-cfb0-d9aeaee1f770"
      },
      "execution_count": 38,
      "outputs": [
        {
          "output_type": "stream",
          "name": "stdout",
          "text": [
            "Массив 6x5\n",
            " [[ 0  1  2  3  4]\n",
            " [ 5  6  7  8  9]\n",
            " [10 11 12 13 14]\n",
            " [15 16 17 18 19]\n",
            " [20 21 22 23 24]\n",
            " [25 26 27 28 29]]\n",
            "Сумма по столбцам: [75 81 87 93 99]\n",
            "\n",
            "Массив 5x6\n",
            " [[ 0  1  2  3  4  5]\n",
            " [ 6  7  8  9 10 11]\n",
            " [12 13 14 15 16 17]\n",
            " [18 19 20 21 22 23]\n",
            " [24 25 26 27 28 29]]\n",
            "Сумма по столбцам: [60 65 70 75 80 85]\n"
          ]
        }
      ]
    },
    {
      "cell_type": "markdown",
      "source": [
        "## 3 задание"
      ],
      "metadata": {
        "id": "XbvkQ55SLIed"
      }
    },
    {
      "cell_type": "code",
      "source": [
        "import numpy as np\n",
        "import random\n",
        "a=np.array([])\n",
        "b=np.array([])\n",
        "for i in range(1,11):\n",
        "  a=np.append(a,random.randint(1,100))\n",
        "  b=np.append(b,random.randint(1,100))\n",
        "x=a*b\n",
        "print(\"Массив а =\",a,\"\\nМассив b =\",b,\"\\nМассив a*b =\",x)\n",
        "print(\"Среднее арифметическое =\",x.sum()/10)"
      ],
      "metadata": {
        "colab": {
          "base_uri": "https://localhost:8080/"
        },
        "id": "GL3vj2ptKdqx",
        "outputId": "953672fd-876e-43e7-dea3-2e7996c3e189"
      },
      "execution_count": 56,
      "outputs": [
        {
          "output_type": "stream",
          "name": "stdout",
          "text": [
            "Массив а = [98. 60. 58. 64. 21.  6. 36.  4. 12. 18.] \n",
            "Массив b = [41. 70. 76. 29.  6. 50. 91. 78. 79. 29.] \n",
            "Массив a*b = [4018. 4200. 4408. 1856.  126.  300. 3276.  312.  948.  522.]\n",
            "Среднее арифметическое = 1996.6\n"
          ]
        }
      ]
    }
  ]
}
